{
 "cells": [
  {
   "cell_type": "markdown",
   "id": "fb1b5105-de5c-4a87-8f72-6a2ec99712df",
   "metadata": {},
   "source": [
    "### Ref: https://github.com/langchain-ai/langchain/blob/master/cookbook/Multi_modal_RAG.ipynb\n"
   ]
  },
  {
   "cell_type": "code",
   "execution_count": null,
   "id": "53254289-fef8-43a0-8d7b-431ce024e0e1",
   "metadata": {},
   "outputs": [],
   "source": []
  },
  {
   "cell_type": "code",
   "execution_count": null,
   "id": "8f445146-0d4e-43f9-a0c8-2a0174ce9f17",
   "metadata": {},
   "outputs": [],
   "source": []
  },
  {
   "cell_type": "code",
   "execution_count": null,
   "id": "a1217de9-02e1-4c26-a36b-069725ad8fb3",
   "metadata": {},
   "outputs": [],
   "source": []
  }
 ],
 "metadata": {
  "kernelspec": {
   "display_name": "Python 3 (ipykernel)",
   "language": "python",
   "name": "python3"
  },
  "language_info": {
   "codemirror_mode": {
    "name": "ipython",
    "version": 3
   },
   "file_extension": ".py",
   "mimetype": "text/x-python",
   "name": "python",
   "nbconvert_exporter": "python",
   "pygments_lexer": "ipython3",
   "version": "3.11.10"
  }
 },
 "nbformat": 4,
 "nbformat_minor": 5
}
